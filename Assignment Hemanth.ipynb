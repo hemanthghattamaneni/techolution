{
 "cells": [
  {
   "cell_type": "code",
   "execution_count": null,
   "metadata": {},
   "outputs": [],
   "source": []
  },
  {
   "cell_type": "markdown",
   "metadata": {},
   "source": [
    "# Assignment"
   ]
  },
  {
   "cell_type": "markdown",
   "metadata": {},
   "source": [
    "Problem statement: Scrap the data from Techolution Careers website and store the data according to the date of posting(Most old first) as a DataFrame in CSV."
   ]
  },
  {
   "cell_type": "markdown",
   "metadata": {},
   "source": [
    "Website URL: https://techolution.app.param.ai/jobs/"
   ]
  },
  {
   "cell_type": "markdown",
   "metadata": {},
   "source": [
    "we are using selenium package because we can scrap from most of the websites."
   ]
  },
  {
   "cell_type": "markdown",
   "metadata": {},
   "source": [
    "Step 1: Importing packages"
   ]
  },
  {
   "cell_type": "code",
   "execution_count": 26,
   "metadata": {},
   "outputs": [
    {
     "data": {
      "text/plain": [
       "'C:\\\\Users\\\\heman\\\\Desktop\\\\ashish\\\\TEXT MINING'"
      ]
     },
     "execution_count": 26,
     "metadata": {},
     "output_type": "execute_result"
    }
   ],
   "source": [
    "import numpy as np\n",
    "import pandas as pd\n",
    "import bs4\n",
    "import requests\n",
    "import os\n",
    "os.getcwd()"
   ]
  },
  {
   "cell_type": "code",
   "execution_count": 27,
   "metadata": {},
   "outputs": [
    {
     "name": "stdout",
     "output_type": "stream",
     "text": [
      "Requirement already satisfied: selenium in c:\\users\\heman\\anaconda3\\lib\\site-packages (3.141.0)\n",
      "Requirement already satisfied: urllib3 in c:\\users\\heman\\anaconda3\\lib\\site-packages (from selenium) (1.23)\n"
     ]
    }
   ],
   "source": [
    "!pip install selenium"
   ]
  },
  {
   "cell_type": "markdown",
   "metadata": {},
   "source": [
    "Step 2 : Using selenium we are connecting to the site using its URL"
   ]
  },
  {
   "cell_type": "code",
   "execution_count": 28,
   "metadata": {},
   "outputs": [],
   "source": [
    "from selenium import webdriver\n",
    "browser = webdriver.Chrome('chromedriver.exe')"
   ]
  },
  {
   "cell_type": "code",
   "execution_count": 29,
   "metadata": {},
   "outputs": [],
   "source": [
    "url = 'https://techolution.app.param.ai/jobs/'\n",
    "browser.get(url)"
   ]
  },
  {
   "cell_type": "code",
   "execution_count": 30,
   "metadata": {},
   "outputs": [
    {
     "data": {
      "text/plain": [
       "24"
      ]
     },
     "execution_count": 30,
     "metadata": {},
     "output_type": "execute_result"
    }
   ],
   "source": [
    "job_tags=browser.find_elements_by_css_selector('div.ui.segment.job_list_card')\n",
    "len(job_tags)"
   ]
  },
  {
   "cell_type": "markdown",
   "metadata": {},
   "source": [
    "there are 24 jobs posted on the site"
   ]
  },
  {
   "cell_type": "markdown",
   "metadata": {},
   "source": [
    "step 3 :Extracting the job title, jobtype, location, experience and job posted on"
   ]
  },
  {
   "cell_type": "markdown",
   "metadata": {},
   "source": [
    " Step 4 : Converting the scraped data in to a dataframe which can be stored into a CSV file"
   ]
  },
  {
   "cell_type": "code",
   "execution_count": 31,
   "metadata": {},
   "outputs": [
    {
     "name": "stdout",
     "output_type": "stream",
     "text": [
      "{'Job Title': 'Big Data Intern\\nInternship · Hyderabad · 0 - 2 Years', 'Posted': '5 days ago'}\n",
      "{'Job Title': 'Senior Cloud Specialist\\nFull-time · Singapore · 5 - 10 Years', 'Posted': '9 days ago'}\n",
      "{'Job Title': 'Cloud Native Developer\\nFull-time · Hyderabad · 2 - 5 Years', 'Posted': '10 days ago'}\n",
      "{'Job Title': 'Data Scientist Intern\\nInternship · Hyderabad · 0 - 4 Years', 'Posted': '12 days ago'}\n",
      "{'Job Title': 'Embedded Engineer\\nFull-time · Hyderabad · 2 - 4 Years', 'Posted': '13 days ago'}\n",
      "{'Job Title': 'Networking & Security Specialist\\nFull-time · Hyderabad · 2 - 6 Years', 'Posted': '18 days ago'}\n",
      "{'Job Title': 'System Engineer\\nInternship · Mauritius · 0 - 1 Years', 'Posted': '18 days ago'}\n",
      "{'Job Title': 'Associate QA Engineer\\nFull-time · Hyderabad · 1 - 3 Years', 'Posted': '19 days ago'}\n",
      "{'Job Title': 'Solution Architect\\nFull-time · Hyderabad · 9 - 15 Years', 'Posted': '19 days ago'}\n",
      "{'Job Title': 'Sr. Microservices Developer\\nFull-time · Hyderabad · 4 - 9 Years', 'Posted': 'a month ago'}\n",
      "{'Job Title': 'SOA Consultant\\nFull-time · Hyderabad · 0 - 1 Years', 'Posted': 'a month ago'}\n",
      "{'Job Title': 'Android Mobile Developer\\nFull-time · mauritius · 3 - 8 Years', 'Posted': 'a month ago'}\n",
      "{'Job Title': 'Associate Cloud Engineer\\nFull-time · Hyderabad · 0 - 3 Years', 'Posted': 'a month ago'}\n",
      "{'Job Title': 'Sr Full Stack Developer\\nFull-time · Mauritius · 3 - 8 Years', 'Posted': 'a month ago'}\n",
      "{'Job Title': 'Sr SAP PI/PO Developer\\nContract · New Jersey · 7 - 12 Years', 'Posted': 'a month ago'}\n",
      "{'Job Title': 'Blockchain Developer\\nFull-time · Hyderabad · 1 - 4 Years', 'Posted': 'a month ago'}\n",
      "{'Job Title': 'Junior Cloud Native Developer\\nFull-time · Delaware · 1 - 2 Years', 'Posted': '2 months ago'}\n",
      "{'Job Title': 'Senior DevOps Engineer\\nFull-time · Hyderabad · 3 - 10 Years', 'Posted': '2 months ago'}\n",
      "{'Job Title': 'Lead DevOps Engineer\\nFull-time · Hyderabad · 5 - 11 Years', 'Posted': '2 months ago'}\n",
      "{'Job Title': 'Site Reliability Engineer\\nFull-time · New York · 1 - 3 Years', 'Posted': '2 months ago'}\n",
      "{'Job Title': 'OSS DevOps Engineer\\nFull-time · Hyderabad · 6 - 12 Years', 'Posted': '2 months ago'}\n",
      "{'Job Title': 'Sr SDET\\nFull-time · New York · 3 - 10 Years', 'Posted': '2 months ago'}\n",
      "{'Job Title': 'Engineering Lead\\nFull-time · Mauritius · 7 - 18 Years', 'Posted': '2 months ago'}\n",
      "{'Job Title': 'Machine Learning Engineer\\nFull-time · Hyderabad · 3 - 5 Years', 'Posted': '2 months ago'}\n"
     ]
    }
   ],
   "source": [
    "postings = pd.DataFrame()\n",
    "for job in job_tags:\n",
    "    jobtitle = job.find_element_by_css_selector('div.twelve.wide.computer.twelve.wide.tablet.sixteen.wide.mobile.column').text\n",
    "    date = job.find_element_by_css_selector('div.four.wide.right.aligned.computer.tablet.only.column').text\n",
    "    curr_job = {'Job Title': jobtitle, 'Posted': date}\n",
    "    print(curr_job)\n",
    "    postings = postings.append(curr_job, ignore_index=True)"
   ]
  },
  {
   "cell_type": "markdown",
   "metadata": {},
   "source": [
    "Step 5 : Storing the data frame into csv file"
   ]
  },
  {
   "cell_type": "code",
   "execution_count": 33,
   "metadata": {},
   "outputs": [],
   "source": [
    "postings.to_csv('AssignmentHemanth.csv', index=False)"
   ]
  },
  {
   "cell_type": "code",
   "execution_count": null,
   "metadata": {},
   "outputs": [],
   "source": []
  },
  {
   "cell_type": "code",
   "execution_count": null,
   "metadata": {},
   "outputs": [],
   "source": []
  },
  {
   "cell_type": "code",
   "execution_count": null,
   "metadata": {},
   "outputs": [],
   "source": []
  },
  {
   "cell_type": "code",
   "execution_count": null,
   "metadata": {},
   "outputs": [],
   "source": []
  },
  {
   "cell_type": "code",
   "execution_count": null,
   "metadata": {},
   "outputs": [],
   "source": []
  },
  {
   "cell_type": "code",
   "execution_count": null,
   "metadata": {},
   "outputs": [],
   "source": []
  },
  {
   "cell_type": "code",
   "execution_count": null,
   "metadata": {},
   "outputs": [],
   "source": []
  }
 ],
 "metadata": {
  "kernelspec": {
   "display_name": "Python 3",
   "language": "python",
   "name": "python3"
  },
  "language_info": {
   "codemirror_mode": {
    "name": "ipython",
    "version": 3
   },
   "file_extension": ".py",
   "mimetype": "text/x-python",
   "name": "python",
   "nbconvert_exporter": "python",
   "pygments_lexer": "ipython3",
   "version": "3.7.0"
  }
 },
 "nbformat": 4,
 "nbformat_minor": 2
}
